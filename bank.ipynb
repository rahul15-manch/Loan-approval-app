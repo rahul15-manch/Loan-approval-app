{
 "cells": [
  {
   "cell_type": "markdown",
   "id": "1d07de75",
   "metadata": {},
   "source": [
    "# FINDING CORRELATION"
   ]
  },
  {
   "cell_type": "code",
   "execution_count": null,
   "id": "91e306a3",
   "metadata": {
    "vscode": {
     "languageId": "plaintext"
    }
   },
   "outputs": [],
   "source": [
    "plt.figure(figsize=(10,6))\n",
    "sns.heatmap(df[num_cols].corr(), annot=True, cmap=\"coolwarm\", fmt=\".2f\")\n",
    "plt.title(\"Correlation Matrix\")\n",
    "plt.show()\n"
   ]
  },
  {
   "cell_type": "markdown",
   "id": "a38c5396",
   "metadata": {},
   "source": [
    "# TEST-TRAIN SPLIT"
   ]
  },
  {
   "cell_type": "markdown",
   "id": "643c55ff",
   "metadata": {},
   "source": [
    "X= df.drop(columns=[\"loan_status\"], axis=1)\n",
    "y= df[\"loan_status\"]\n",
    "from sklearn.model_selection import train_test_split\n",
    "X_train, X_test, y_train, y_test = train_test_split(X, y, test_size=0.2, random_state=42, stratify=y)\n",
    "print(\"Train shape:\", X_train.shape)\n",
    "print(\"Test shape:\", X_test.shape)"
   ]
  }
 ],
 "metadata": {
  "language_info": {
   "name": "python"
  }
 },
 "nbformat": 4,
 "nbformat_minor": 5
}

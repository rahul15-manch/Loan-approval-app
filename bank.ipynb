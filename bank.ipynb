{
 "cells": [
  {
   "cell_type": "markdown",
   "id": "1d07de75",
   "metadata": {},
   "source": [
    "# VISUALISING THE DATASET"
   ]
  },
  {
   "cell_type": "code",
   "execution_count": null,
   "id": "f86a61e3",
   "metadata": {
    "vscode": {
     "languageId": "plaintext"
    }
   },
   "outputs": [],
   "source": [
    "sns.countplot(data=df, x=\"loan_status\")\n",
    "plt.title(\"Loan Status Distribution\")\n",
    "plt.show()"
   ]
  },
  {
   "cell_type": "code",
   "execution_count": null,
   "id": "6c4dfb20",
   "metadata": {
    "vscode": {
     "languageId": "plaintext"
    }
   },
   "outputs": [],
   "source": [
    "num_cols = ['no_of_dependents', 'income_annum', ' loan_amount',\n",
    "            'loan_term', 'cibil_score', 'residential_asset_value',\n",
    "            'commercial_assets_value', 'luxury_assets_value', 'bank_asset_value']\n",
    "\n",
    "# Histograms\n",
    "df[num_cols].hist(bins=30, figsize=(15,12))\n",
    "plt.show()\n",
    "\n",
    "# Boxplots for outliers\n",
    "for col in num_cols:\n",
    "    plt.figure()\n",
    "    sns.boxplot(x=df[col])\n",
    "    plt.title(f\"Boxplot - {col}\")\n",
    "    plt.show()\n"
   ]
  },
  {
   "cell_type": "code",
   "execution_count": null,
   "id": "385047c0",
   "metadata": {
    "vscode": {
     "languageId": "plaintext"
    }
   },
   "outputs": [],
   "source": [
    "cat_cols = [\"education\", \"self_employed\"]\n",
    "\n",
    "for col in cat_cols:\n",
    "    plt.figure(figsize=(5,4))\n",
    "    sns.countplot(data=df, x=col, hue=\"loan_status\")\n",
    "    plt.title(f\"{col} vs Loan Status\")\n",
    "    plt.show()\n"
   ]
  },
  {
   "cell_type": "code",
   "execution_count": null,
   "id": "91e306a3",
   "metadata": {
    "vscode": {
     "languageId": "plaintext"
    }
   },
   "outputs": [],
   "source": [
    "plt.figure(figsize=(10,6))\n",
    "sns.heatmap(df[num_cols].corr(), annot=True, cmap=\"coolwarm\", fmt=\".2f\")\n",
    "plt.title(\"Correlation Matrix\")\n",
    "plt.show()\n"
   ]
  },
  {
   "cell_type": "code",
   "execution_count": null,
   "id": "d007c045",
   "metadata": {
    "vscode": {
     "languageId": "plaintext"
    }
   },
   "outputs": [],
   "source": [
    "sns.boxplot(x=\"loan_status\", y=\"cibil_score\", data=df)\n",
    "plt.title(\"CIBIL Score vs Loan Status\")\n",
    "plt.show()\n",
    "\n",
    "sns.boxplot(x=\"loan_status\", y=\"income_annum\", data=df)\n",
    "plt.title(\"Income vs Loan Status\")\n",
    "plt.show()"
   ]
  }
 ],
 "metadata": {
  "language_info": {
   "name": "python"
  }
 },
 "nbformat": 4,
 "nbformat_minor": 5
}
